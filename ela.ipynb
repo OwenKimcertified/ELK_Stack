{
 "cells": [
  {
   "cell_type": "code",
   "execution_count": 13,
   "metadata": {},
   "outputs": [
    {
     "name": "stderr",
     "output_type": "stream",
     "text": [
      "/tmp/ipykernel_17770/3970241107.py:9: DeprecationWarning: The 'body' parameter is deprecated and will be removed in a future version. Instead use the 'document' parameter. See https://github.com/elastic/elasticsearch-py/issues/1698 for more information\n",
      "  es.index(index = \"my_files_index\", body = {\n"
     ]
    },
    {
     "data": {
      "text/plain": [
       "ObjectApiResponse({'_index': 'my_files_index', '_id': '9A_7y4oBzysLLmpndAl8', '_version': 1, 'result': 'created', '_shards': {'total': 2, 'successful': 1, 'failed': 0}, '_seq_no': 0, '_primary_term': 1})"
      ]
     },
     "execution_count": 13,
     "metadata": {},
     "output_type": "execute_result"
    }
   ],
   "source": [
    "from elasticsearch import Elasticsearch\n",
    "\n",
    "\n",
    "USER = 'User'\n",
    "PASSW = 'Password'\n",
    "API_KEY = \"Nnc5LXk0b0J6eXNMTG1wbmNna286SmhPS1FKc1NUSFdNeWJNc21vOTZIdw==\"\n",
    "\n",
    "es = Elasticsearch(\"http://localhost:9200\", basic_auth = (USER, PASSW))\n",
    "\n",
    "\n",
    "\n",
    "es.index(index = \"my_files_index\", document = {\n",
    "    \"path\": \"/home/owen/hadoop/LICENSE.txt\",\n",
    "    \"content\": open(\"/home/owen/hadoop/LICENSE.txt\").read()\n",
    "})\n"
   ]
  },
  {
   "cell_type": "markdown",
   "metadata": {},
   "source": [
    "# Elastic search 는 자체적으로 api 를 제공함. \n",
    "\n",
    "__postman 으로 rest api 테스트__\n",
    "\n",
    "<img src = \"https://drive.google.com/uc?id=1kUuKITIfX0L7QNbH21t7pR-mJrqFY6t2\">"
   ]
  }
 ],
 "metadata": {
  "kernelspec": {
   "display_name": "bigdata",
   "language": "python",
   "name": "python3"
  },
  "language_info": {
   "codemirror_mode": {
    "name": "ipython",
    "version": 3
   },
   "file_extension": ".py",
   "mimetype": "text/x-python",
   "name": "python",
   "nbconvert_exporter": "python",
   "pygments_lexer": "ipython3",
   "version": "3.8.17"
  },
  "orig_nbformat": 4
 },
 "nbformat": 4,
 "nbformat_minor": 2
}
